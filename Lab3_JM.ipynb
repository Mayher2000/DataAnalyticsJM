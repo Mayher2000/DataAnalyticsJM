{
 "cells": [
  {
   "cell_type": "markdown",
   "metadata": {},
   "source": [
    "Modeling prior predictive distribution"
   ]
  },
  {
   "cell_type": "code",
   "execution_count": 1,
   "metadata": {},
   "outputs": [
    {
     "name": "stderr",
     "output_type": "stream",
     "text": [
      "/usr/local/lib/python3.9/site-packages/tqdm/auto.py:22: TqdmWarning: IProgress not found. Please update jupyter and ipywidgets. See https://ipywidgets.readthedocs.io/en/stable/user_install.html\n",
      "  from .autonotebook import tqdm as notebook_tqdm\n"
     ]
    }
   ],
   "source": [
    "from cmdstanpy import CmdStanModel\n",
    "import pandas as pd\n",
    "import arviz as az \n",
    "import numpy as np\n",
    "import matplotlib.pyplot as plt\n",
    "import scipy.stats as stats"
   ]
  },
  {
   "cell_type": "code",
   "execution_count": 103,
   "metadata": {},
   "outputs": [
    {
     "name": "stderr",
     "output_type": "stream",
     "text": [
      "INFO:cmdstanpy:compiling stan file /home/model1_lab3.stan to exe file /home/model1_lab3\n",
      "INFO:cmdstanpy:compiled model executable: /home/model1_lab3\n",
      "INFO:cmdstanpy:CmdStan start processing\n",
      "chain 1 |\u001b[34m██████████\u001b[0m| 00:00 Sampling completed"
     ]
    },
    {
     "name": "stdout",
     "output_type": "stream",
     "text": [
      "                                                                                "
     ]
    },
    {
     "name": "stderr",
     "output_type": "stream",
     "text": [
      "\n",
      "INFO:cmdstanpy:CmdStan done processing.\n"
     ]
    },
    {
     "name": "stdout",
     "output_type": "stream",
     "text": [
      "\n"
     ]
    },
    {
     "data": {
      "image/png": "[encoded data removed]",
      "text/plain": [
       "<Figure size 432x288 with 1 Axes>"
      ]
     },
     "metadata": {
      "needs_background": "light"
     },
     "output_type": "display_data"
    },
    {
     "data": {
      "image/png": "[encoded data removed]",
      "text/plain": [
       "<Figure size 432x288 with 1 Axes>"
      ]
     },
     "metadata": {
      "needs_background": "light"
     },
     "output_type": "display_data"
    }
   ],
   "source": [
    "# Compile the Stan model\n",
    "model = CmdStanModel(stan_file='home/model1_lab3.stan')\n",
    "\n",
    "# Generate 1000 samples\n",
    "samples = model.sample(\n",
    "    fixed_param=True,\n",
    "    iter_sampling=1000, \n",
    "    iter_warmup=0 \n",
    ")\n",
    "# Extract the samples for p and y\n",
    "p_samples = samples.stan_variable('p')\n",
    "y_samples = samples.stan_variable('y')\n",
    "\n",
    "# Compute the ratio of allergic reactions for each sample\n",
    "ratio_samples = y_samples / 50.0\n",
    "\n",
    "# Compute the mean of the ratio samples\n",
    "ratio_mean = np.mean(ratio_samples)\n",
    "\n",
    "# Compute the mean of the p samples\n",
    "p_mean = np.mean(p_samples)\n",
    "\n",
    "# Create a histogram of the ratio samples\n",
    "plt.hist(ratio_samples, bins=20, density=True)\n",
    "plt.xlabel('Ratio of Allergic Reactions', color ='red')\n",
    "plt.ylabel('Density', color ='red')\n",
    "plt.title('Histogram of Allergic Reaction Ratio', color ='red')\n",
    "plt.axvline(ratio_mean, color='r', linestyle='--', label='Mean')\n",
    "plt.tick_params(axis='both', colors='red')\n",
    "plt.show()\n",
    "\n",
    "# Create a histogram of the prior samples\n",
    "plt.hist(p_samples, bins=20, density=True)\n",
    "plt.xlabel('Prior', color ='red')\n",
    "plt.ylabel('Density', color ='red')\n",
    "plt.title('Prior Knowledge', color ='red')\n",
    "plt.axvline(p_mean, color='r', linestyle='--', label='Mean')\n",
    "plt.tick_params(axis='both', colors='red')\n",
    "plt.show()"
   ]
  },
  {
   "attachments": {},
   "cell_type": "markdown",
   "metadata": {},
   "source": [
    "By comparing the prior and ratio, we can assess whether the prior is a good representation of our prior knowledge. If the ratio dstribution is similar to the prior distribution, then our prior is likely appropriate and the mean of the ratio is consistent with our prior knowledge. "
   ]
  },
  {
   "cell_type": "markdown",
   "metadata": {},
   "source": [
    "Modeling posterior and posterior predictive distribution"
   ]
  },
  {
   "cell_type": "code",
   "execution_count": 104,
   "metadata": {},
   "outputs": [
    {
     "name": "stderr",
     "output_type": "stream",
     "text": [
      "INFO:cmdstanpy:compiling stan file /home/model2_lab3.stan to exe file /home/model2_lab3\n",
      "INFO:cmdstanpy:compiled model executable: /home/model2_lab3\n",
      "WARNING:cmdstanpy:Stan compiler has produced 1 warnings:\n",
      "WARNING:cmdstanpy:\n",
      "--- Translating Stan model to C++ code ---\n",
      "bin/stanc  --o=/home/model2_lab3.hpp /home/model2_lab3.stan\n",
      "Warning in '/home/model2_lab3.stan', line 3, column 2: Declaration of arrays\n",
      "    by placing brackets after a variable name is deprecated and will be\n",
      "    removed in Stan 2.32.0. Instead use the array keyword before the type.\n",
      "    This can be changed automatically using the auto-format flag to stanc\n",
      "\n",
      "--- Compiling, linking C++ code ---\n",
      "g++ -std=c++1y -pthread -D_REENTRANT -Wno-sign-compare -Wno-ignored-attributes      -I stan/lib/stan_math/lib/tbb_2020.3/include    -O3 -I src -I stan/src -I lib/rapidjson_1.1.0/ -I lib/CLI11-1.9.1/ -I stan/lib/stan_math/ -I stan/lib/stan_math/lib/eigen_3.3.9 -I stan/lib/stan_math/lib/boost_1.75.0 -I stan/lib/stan_math/lib/sundials_6.0.0/include -I stan/lib/stan_math/lib/sundials_6.0.0/src/sundials    -DBOOST_DISABLE_ASSERTS          -c -Wno-ignored-attributes   -x c++ -o /home/model2_lab3.o /home/model2_lab3.hpp\n",
      "g++ -std=c++1y -pthread -D_REENTRANT -Wno-sign-compare -Wno-ignored-attributes      -I stan/lib/stan_math/lib/tbb_2020.3/include    -O3 -I src -I stan/src -I lib/rapidjson_1.1.0/ -I lib/CLI11-1.9.1/ -I stan/lib/stan_math/ -I stan/lib/stan_math/lib/eigen_3.3.9 -I stan/lib/stan_math/lib/boost_1.75.0 -I stan/lib/stan_math/lib/sundials_6.0.0/include -I stan/lib/stan_math/lib/sundials_6.0.0/src/sundials    -DBOOST_DISABLE_ASSERTS                -Wl,-L,\"/opt/cmdstan-2.29.0/stan/lib/stan_math/lib/tbb\" -Wl,-rpath,\"/opt/cmdstan-2.29.0/stan/lib/stan_math/lib/tbb\"      /home/model2_lab3.o src/cmdstan/main.o        -Wl,-L,\"/opt/cmdstan-2.29.0/stan/lib/stan_math/lib/tbb\" -Wl,-rpath,\"/opt/cmdstan-2.29.0/stan/lib/stan_math/lib/tbb\"   stan/lib/stan_math/lib/sundials_6.0.0/lib/libsundials_nvecserial.a stan/lib/stan_math/lib/sundials_6.0.0/lib/libsundials_cvodes.a stan/lib/stan_math/lib/sundials_6.0.0/lib/libsundials_idas.a stan/lib/stan_math/lib/sundials_6.0.0/lib/libsundials_kinsol.a  stan/lib/stan_math/lib/tbb/libtbb.so.2 -o /home/model2_lab3\n",
      "rm -f /home/model2_lab3.o\n",
      "\n",
      "INFO:cmdstanpy:CmdStan start processing\n",
      "chain 1 |\u001b[34m██████████\u001b[0m| 00:00 Sampling completed                      "
     ]
    },
    {
     "name": "stdout",
     "output_type": "stream",
     "text": [
      "                                                                                "
     ]
    },
    {
     "name": "stderr",
     "output_type": "stream",
     "text": [
      "\n",
      "INFO:cmdstanpy:CmdStan done processing.\n"
     ]
    },
    {
     "name": "stdout",
     "output_type": "stream",
     "text": [
      "\n",
      "Ratio mean value =  0.6195\n",
      "94% Density interval of ratio =  [0.48 0.74]\n",
      "Ratio p value =  0.6142929999999999\n",
      "94% Density interval of p =  [0.614293 0.614293]\n",
      "count = 0\n",
      "The probability that the predicted ratio is lower\n",
      " than the average probability from traditional vaccines is: 0.0\n"
     ]
    },
    {
     "data": {
      "image/png": "[encoded data removed]",
      "text/plain": [
       "<Figure size 432x288 with 1 Axes>"
      ]
     },
     "metadata": {
      "needs_background": "light"
     },
     "output_type": "display_data"
    }
   ],
   "source": [
    "# Defined the data\n",
    "N = 50\n",
    "y = np.random.binomial(1, 0.5, N)\n",
    "\n",
    "# Compiling and running the model with default settings\n",
    "model2 = CmdStanModel(stan_file='home/model2_lab3.stan')\n",
    "samples2 = model2.sample(data={'N': N, 'y': y},\n",
    "                        fixed_param=True,\n",
    "                        iter_sampling=1000, \n",
    "                        iter_warmup=0 )\n",
    "df = samples2.draws_pd()\n",
    "p2 = df['p']\n",
    "\n",
    "# Computing ratio and density interval\n",
    "ratio_samples2 = df['y_pred'] / N\n",
    "ratio_interval = az.hdi(ratio_samples2.to_numpy(), credible_interval=0.94)\n",
    "p2_interval = az.hdi(p2.to_numpy(), credible_interval=0.94)\n",
    "\n",
    "# Create a histogram of the ratio\n",
    "plt.hist(ratio_samples2, bins=15)\n",
    "plt.tick_params(axis='both', colors='red')\n",
    "plt.show\n",
    "\n",
    "# compute expected value and 94% density interval of predicted ratio\n",
    "print('Ratio mean value = ', ratio_samples2.mean())\n",
    "print('94% Density interval of ratio = ', ratio_interval)\n",
    "\n",
    "# compute expected value and 94% density interval of p\n",
    "print('Ratio p value = ', p2.mean())\n",
    "print('94% Density interval of p = ', p2_interval)\n",
    "\n",
    "# Compute the average probability from traditional vaccines\n",
    "p_avg = 0.2\n",
    "\n",
    "# Compute the number of simulated ratios that are smaller than the average probability\n",
    "count = np.sum(ratio_samples2 < p_avg)\n",
    "print('count =',count)\n",
    "\n",
    "# Compute the probability that the predicted ratio is lower than the average probability\n",
    "prob = count / len(ratio_samples2)\n",
    "\n",
    "print(\"The probability that the predicted ratio is lower\\n than the average probability from traditional vaccines is:\", prob)"
   ]
  },
  {
   "cell_type": "code",
   "execution_count": null,
   "metadata": {},
   "outputs": [],
   "source": []
  }
 ],
 "metadata": {
  "kernelspec": {
   "display_name": "Python 3",
   "language": "python",
   "name": "python3"
  },
  "language_info": {
   "codemirror_mode": {
    "name": "ipython",
    "version": 3
   },
   "file_extension": ".py",
   "mimetype": "text/x-python",
   "name": "python",
   "nbconvert_exporter": "python",
   "pygments_lexer": "ipython3",
   "version": "3.9.11"
  },
  "orig_nbformat": 4
 },
 "nbformat": 4,
 "nbformat_minor": 2
}
