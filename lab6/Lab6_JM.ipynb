{
 "cells": [
  {
   "cell_type": "code",
   "execution_count": 3,
   "metadata": {},
   "outputs": [
    {
     "name": "stderr",
     "output_type": "stream",
     "text": [
      "/usr/local/lib/python3.9/site-packages/tqdm/auto.py:22: TqdmWarning: IProgress not found. Please update jupyter and ipywidgets. See https://ipywidgets.readthedocs.io/en/stable/user_install.html\n",
      "  from .autonotebook import tqdm as notebook_tqdm\n"
     ]
    }
   ],
   "source": [
    "from cmdstanpy import CmdStanModel\n",
    "import arviz as az\n",
    "import numpy as np\n",
    "import scipy.stats as stats\n",
    "import scipy.stats as norm\n",
    "import matplotlib.pyplot as plt\n",
    "import pandas as pd"
   ]
  },
  {
   "cell_type": "markdown",
   "metadata": {},
   "source": [
    "Excercise 1 - generate data"
   ]
  },
  {
   "cell_type": "code",
   "execution_count": 4,
   "metadata": {},
   "outputs": [
    {
     "name": "stderr",
     "output_type": "stream",
     "text": [
      "INFO:cmdstanpy:found newer exe file, not recompiling\n",
      "INFO:cmdstanpy:CmdStan start processing\n",
      "chain 1 |\u001b[34m██████████\u001b[0m| 00:00 Sampling completed                      "
     ]
    },
    {
     "name": "stdout",
     "output_type": "stream",
     "text": [
      "                                                                                "
     ]
    },
    {
     "name": "stderr",
     "output_type": "stream",
     "text": [
      "\n",
      "INFO:cmdstanpy:CmdStan done processing.\n"
     ]
    },
    {
     "name": "stdout",
     "output_type": "stream",
     "text": [
      "\n"
     ]
    }
   ],
   "source": [
    "F = len('Jakub')        # F - number of letters in first name \n",
    "L = len('Majcher')      # L - number of letters in last name \n",
    "N = (L+F)*100           # N = (L+F)*100\n",
    "\n",
    "model_code1 = CmdStanModel(stan_file='lab6/code_1.stan')\n",
    "samples_code1 = model_code1.sample(data={'N': N}, \n",
    "                                   iter_sampling=1000, \n",
    "                                   iter_warmup=0, \n",
    "                                   chains = 1)"
   ]
  },
  {
   "cell_type": "code",
   "execution_count": 12,
   "metadata": {},
   "outputs": [
    {
     "data": {
      "text/html": [
       "<div>\n",
       "<style scoped>\n",
       "    .dataframe tbody tr th:only-of-type {\n",
       "        vertical-align: middle;\n",
       "    }\n",
       "\n",
       "    .dataframe tbody tr th {\n",
       "        vertical-align: top;\n",
       "    }\n",
       "\n",
       "    .dataframe thead th {\n",
       "        text-align: right;\n",
       "    }\n",
       "</style>\n",
       "<table border=\"1\" class=\"dataframe\">\n",
       "  <thead>\n",
       "    <tr style=\"text-align: right;\">\n",
       "      <th></th>\n",
       "      <th>lp__</th>\n",
       "      <th>accept_stat__</th>\n",
       "      <th>theta</th>\n",
       "      <th>y[1]</th>\n",
       "      <th>y[2]</th>\n",
       "      <th>y[3]</th>\n",
       "      <th>y[4]</th>\n",
       "      <th>y[5]</th>\n",
       "      <th>y[6]</th>\n",
       "      <th>y[7]</th>\n",
       "      <th>...</th>\n",
       "      <th>y[1191]</th>\n",
       "      <th>y[1192]</th>\n",
       "      <th>y[1193]</th>\n",
       "      <th>y[1194]</th>\n",
       "      <th>y[1195]</th>\n",
       "      <th>y[1196]</th>\n",
       "      <th>y[1197]</th>\n",
       "      <th>y[1198]</th>\n",
       "      <th>y[1199]</th>\n",
       "      <th>y[1200]</th>\n",
       "    </tr>\n",
       "  </thead>\n",
       "  <tbody>\n",
       "    <tr>\n",
       "      <th>0</th>\n",
       "      <td>0.0</td>\n",
       "      <td>0.0</td>\n",
       "      <td>0.01</td>\n",
       "      <td>1.523310</td>\n",
       "      <td>-0.165771</td>\n",
       "      <td>-0.482094</td>\n",
       "      <td>0.183519</td>\n",
       "      <td>0.159352</td>\n",
       "      <td>-0.244397</td>\n",
       "      <td>1.314220</td>\n",
       "      <td>...</td>\n",
       "      <td>-0.915988</td>\n",
       "      <td>0.848560</td>\n",
       "      <td>1.021310</td>\n",
       "      <td>-0.247212</td>\n",
       "      <td>-0.303797</td>\n",
       "      <td>0.141540</td>\n",
       "      <td>1.271960</td>\n",
       "      <td>-1.440990</td>\n",
       "      <td>-0.170517</td>\n",
       "      <td>-0.312644</td>\n",
       "    </tr>\n",
       "    <tr>\n",
       "      <th>1</th>\n",
       "      <td>0.0</td>\n",
       "      <td>0.0</td>\n",
       "      <td>0.01</td>\n",
       "      <td>0.461743</td>\n",
       "      <td>1.034310</td>\n",
       "      <td>-1.959590</td>\n",
       "      <td>0.451987</td>\n",
       "      <td>0.221047</td>\n",
       "      <td>-0.092219</td>\n",
       "      <td>0.549575</td>\n",
       "      <td>...</td>\n",
       "      <td>-1.728840</td>\n",
       "      <td>0.832664</td>\n",
       "      <td>0.527810</td>\n",
       "      <td>-0.991110</td>\n",
       "      <td>-0.571552</td>\n",
       "      <td>0.208623</td>\n",
       "      <td>0.069843</td>\n",
       "      <td>-0.161672</td>\n",
       "      <td>1.723290</td>\n",
       "      <td>-0.444016</td>\n",
       "    </tr>\n",
       "    <tr>\n",
       "      <th>2</th>\n",
       "      <td>0.0</td>\n",
       "      <td>0.0</td>\n",
       "      <td>0.01</td>\n",
       "      <td>-0.544328</td>\n",
       "      <td>-1.276040</td>\n",
       "      <td>-0.381158</td>\n",
       "      <td>0.826363</td>\n",
       "      <td>-0.627695</td>\n",
       "      <td>-0.919706</td>\n",
       "      <td>0.872259</td>\n",
       "      <td>...</td>\n",
       "      <td>-0.834820</td>\n",
       "      <td>-1.139910</td>\n",
       "      <td>-1.005340</td>\n",
       "      <td>0.998908</td>\n",
       "      <td>-1.279270</td>\n",
       "      <td>-0.156285</td>\n",
       "      <td>-0.953175</td>\n",
       "      <td>0.256274</td>\n",
       "      <td>-0.250768</td>\n",
       "      <td>0.399919</td>\n",
       "    </tr>\n",
       "    <tr>\n",
       "      <th>3</th>\n",
       "      <td>0.0</td>\n",
       "      <td>0.0</td>\n",
       "      <td>0.01</td>\n",
       "      <td>0.697221</td>\n",
       "      <td>0.330597</td>\n",
       "      <td>-0.622758</td>\n",
       "      <td>-0.660488</td>\n",
       "      <td>0.000751</td>\n",
       "      <td>1.693460</td>\n",
       "      <td>0.163948</td>\n",
       "      <td>...</td>\n",
       "      <td>1.230750</td>\n",
       "      <td>-0.085592</td>\n",
       "      <td>-0.382835</td>\n",
       "      <td>0.438341</td>\n",
       "      <td>0.267859</td>\n",
       "      <td>0.921865</td>\n",
       "      <td>-0.725613</td>\n",
       "      <td>-1.575700</td>\n",
       "      <td>-0.031649</td>\n",
       "      <td>-0.990576</td>\n",
       "    </tr>\n",
       "    <tr>\n",
       "      <th>4</th>\n",
       "      <td>0.0</td>\n",
       "      <td>0.0</td>\n",
       "      <td>0.01</td>\n",
       "      <td>-0.137978</td>\n",
       "      <td>0.311539</td>\n",
       "      <td>-0.153581</td>\n",
       "      <td>0.176781</td>\n",
       "      <td>-0.161121</td>\n",
       "      <td>1.708210</td>\n",
       "      <td>-0.255821</td>\n",
       "      <td>...</td>\n",
       "      <td>1.592010</td>\n",
       "      <td>-0.401239</td>\n",
       "      <td>0.608789</td>\n",
       "      <td>-0.418234</td>\n",
       "      <td>-0.118203</td>\n",
       "      <td>-0.777380</td>\n",
       "      <td>-0.634704</td>\n",
       "      <td>-0.807404</td>\n",
       "      <td>0.392002</td>\n",
       "      <td>0.796780</td>\n",
       "    </tr>\n",
       "    <tr>\n",
       "      <th>...</th>\n",
       "      <td>...</td>\n",
       "      <td>...</td>\n",
       "      <td>...</td>\n",
       "      <td>...</td>\n",
       "      <td>...</td>\n",
       "      <td>...</td>\n",
       "      <td>...</td>\n",
       "      <td>...</td>\n",
       "      <td>...</td>\n",
       "      <td>...</td>\n",
       "      <td>...</td>\n",
       "      <td>...</td>\n",
       "      <td>...</td>\n",
       "      <td>...</td>\n",
       "      <td>...</td>\n",
       "      <td>...</td>\n",
       "      <td>...</td>\n",
       "      <td>...</td>\n",
       "      <td>...</td>\n",
       "      <td>...</td>\n",
       "      <td>...</td>\n",
       "    </tr>\n",
       "    <tr>\n",
       "      <th>995</th>\n",
       "      <td>0.0</td>\n",
       "      <td>0.0</td>\n",
       "      <td>0.01</td>\n",
       "      <td>-2.677420</td>\n",
       "      <td>0.718314</td>\n",
       "      <td>-0.692591</td>\n",
       "      <td>0.503700</td>\n",
       "      <td>1.046550</td>\n",
       "      <td>-1.158840</td>\n",
       "      <td>0.469477</td>\n",
       "      <td>...</td>\n",
       "      <td>0.430778</td>\n",
       "      <td>0.289606</td>\n",
       "      <td>-0.275914</td>\n",
       "      <td>0.189038</td>\n",
       "      <td>1.333940</td>\n",
       "      <td>-1.510040</td>\n",
       "      <td>-0.626131</td>\n",
       "      <td>0.116340</td>\n",
       "      <td>0.621682</td>\n",
       "      <td>-0.628561</td>\n",
       "    </tr>\n",
       "    <tr>\n",
       "      <th>996</th>\n",
       "      <td>0.0</td>\n",
       "      <td>0.0</td>\n",
       "      <td>0.01</td>\n",
       "      <td>1.097260</td>\n",
       "      <td>-0.497713</td>\n",
       "      <td>-0.592906</td>\n",
       "      <td>0.482519</td>\n",
       "      <td>0.010158</td>\n",
       "      <td>0.323658</td>\n",
       "      <td>0.709904</td>\n",
       "      <td>...</td>\n",
       "      <td>0.080156</td>\n",
       "      <td>0.223750</td>\n",
       "      <td>0.753528</td>\n",
       "      <td>1.523330</td>\n",
       "      <td>0.468879</td>\n",
       "      <td>0.610406</td>\n",
       "      <td>0.157838</td>\n",
       "      <td>-0.483350</td>\n",
       "      <td>-0.009383</td>\n",
       "      <td>0.459283</td>\n",
       "    </tr>\n",
       "    <tr>\n",
       "      <th>997</th>\n",
       "      <td>0.0</td>\n",
       "      <td>0.0</td>\n",
       "      <td>0.01</td>\n",
       "      <td>-0.731741</td>\n",
       "      <td>-2.176440</td>\n",
       "      <td>0.132446</td>\n",
       "      <td>0.909571</td>\n",
       "      <td>0.936672</td>\n",
       "      <td>0.259715</td>\n",
       "      <td>0.962546</td>\n",
       "      <td>...</td>\n",
       "      <td>-0.123418</td>\n",
       "      <td>-1.391980</td>\n",
       "      <td>-0.581432</td>\n",
       "      <td>-1.350400</td>\n",
       "      <td>1.216040</td>\n",
       "      <td>1.116710</td>\n",
       "      <td>0.897072</td>\n",
       "      <td>11.422200</td>\n",
       "      <td>-0.560288</td>\n",
       "      <td>0.644747</td>\n",
       "    </tr>\n",
       "    <tr>\n",
       "      <th>998</th>\n",
       "      <td>0.0</td>\n",
       "      <td>0.0</td>\n",
       "      <td>0.01</td>\n",
       "      <td>-1.567430</td>\n",
       "      <td>0.670658</td>\n",
       "      <td>-1.165030</td>\n",
       "      <td>-0.987842</td>\n",
       "      <td>0.188015</td>\n",
       "      <td>0.273086</td>\n",
       "      <td>-0.730285</td>\n",
       "      <td>...</td>\n",
       "      <td>-1.009770</td>\n",
       "      <td>-1.024400</td>\n",
       "      <td>-0.164819</td>\n",
       "      <td>-1.025380</td>\n",
       "      <td>0.726069</td>\n",
       "      <td>0.718160</td>\n",
       "      <td>0.667109</td>\n",
       "      <td>2.003400</td>\n",
       "      <td>-1.266450</td>\n",
       "      <td>-1.200170</td>\n",
       "    </tr>\n",
       "    <tr>\n",
       "      <th>999</th>\n",
       "      <td>0.0</td>\n",
       "      <td>0.0</td>\n",
       "      <td>0.01</td>\n",
       "      <td>-0.336555</td>\n",
       "      <td>0.029748</td>\n",
       "      <td>-0.343238</td>\n",
       "      <td>-1.962950</td>\n",
       "      <td>-0.480237</td>\n",
       "      <td>-0.850946</td>\n",
       "      <td>0.306261</td>\n",
       "      <td>...</td>\n",
       "      <td>1.180990</td>\n",
       "      <td>-0.738614</td>\n",
       "      <td>1.122070</td>\n",
       "      <td>-0.404309</td>\n",
       "      <td>-0.357663</td>\n",
       "      <td>-1.151970</td>\n",
       "      <td>0.429042</td>\n",
       "      <td>1.533060</td>\n",
       "      <td>-0.802254</td>\n",
       "      <td>-0.603444</td>\n",
       "    </tr>\n",
       "  </tbody>\n",
       "</table>\n",
       "<p>1000 rows × 1203 columns</p>\n",
       "</div>"
      ],
      "text/plain": [
       "     lp__  accept_stat__  theta      y[1]      y[2]      y[3]      y[4]  \\\n",
       "0     0.0            0.0   0.01  1.523310 -0.165771 -0.482094  0.183519   \n",
       "1     0.0            0.0   0.01  0.461743  1.034310 -1.959590  0.451987   \n",
       "2     0.0            0.0   0.01 -0.544328 -1.276040 -0.381158  0.826363   \n",
       "3     0.0            0.0   0.01  0.697221  0.330597 -0.622758 -0.660488   \n",
       "4     0.0            0.0   0.01 -0.137978  0.311539 -0.153581  0.176781   \n",
       "..    ...            ...    ...       ...       ...       ...       ...   \n",
       "995   0.0            0.0   0.01 -2.677420  0.718314 -0.692591  0.503700   \n",
       "996   0.0            0.0   0.01  1.097260 -0.497713 -0.592906  0.482519   \n",
       "997   0.0            0.0   0.01 -0.731741 -2.176440  0.132446  0.909571   \n",
       "998   0.0            0.0   0.01 -1.567430  0.670658 -1.165030 -0.987842   \n",
       "999   0.0            0.0   0.01 -0.336555  0.029748 -0.343238 -1.962950   \n",
       "\n",
       "         y[5]      y[6]      y[7]  ...   y[1191]   y[1192]   y[1193]  \\\n",
       "0    0.159352 -0.244397  1.314220  ... -0.915988  0.848560  1.021310   \n",
       "1    0.221047 -0.092219  0.549575  ... -1.728840  0.832664  0.527810   \n",
       "2   -0.627695 -0.919706  0.872259  ... -0.834820 -1.139910 -1.005340   \n",
       "3    0.000751  1.693460  0.163948  ...  1.230750 -0.085592 -0.382835   \n",
       "4   -0.161121  1.708210 -0.255821  ...  1.592010 -0.401239  0.608789   \n",
       "..        ...       ...       ...  ...       ...       ...       ...   \n",
       "995  1.046550 -1.158840  0.469477  ...  0.430778  0.289606 -0.275914   \n",
       "996  0.010158  0.323658  0.709904  ...  0.080156  0.223750  0.753528   \n",
       "997  0.936672  0.259715  0.962546  ... -0.123418 -1.391980 -0.581432   \n",
       "998  0.188015  0.273086 -0.730285  ... -1.009770 -1.024400 -0.164819   \n",
       "999 -0.480237 -0.850946  0.306261  ...  1.180990 -0.738614  1.122070   \n",
       "\n",
       "      y[1194]   y[1195]   y[1196]   y[1197]    y[1198]   y[1199]   y[1200]  \n",
       "0   -0.247212 -0.303797  0.141540  1.271960  -1.440990 -0.170517 -0.312644  \n",
       "1   -0.991110 -0.571552  0.208623  0.069843  -0.161672  1.723290 -0.444016  \n",
       "2    0.998908 -1.279270 -0.156285 -0.953175   0.256274 -0.250768  0.399919  \n",
       "3    0.438341  0.267859  0.921865 -0.725613  -1.575700 -0.031649 -0.990576  \n",
       "4   -0.418234 -0.118203 -0.777380 -0.634704  -0.807404  0.392002  0.796780  \n",
       "..        ...       ...       ...       ...        ...       ...       ...  \n",
       "995  0.189038  1.333940 -1.510040 -0.626131   0.116340  0.621682 -0.628561  \n",
       "996  1.523330  0.468879  0.610406  0.157838  -0.483350 -0.009383  0.459283  \n",
       "997 -1.350400  1.216040  1.116710  0.897072  11.422200 -0.560288  0.644747  \n",
       "998 -1.025380  0.726069  0.718160  0.667109   2.003400 -1.266450 -1.200170  \n",
       "999 -0.404309 -0.357663 -1.151970  0.429042   1.533060 -0.802254 -0.603444  \n",
       "\n",
       "[1000 rows x 1203 columns]"
      ]
     },
     "metadata": {},
     "output_type": "display_data"
    },
    {
     "data": {
      "text/plain": [
       "array([ 1.52331 , -0.165771, -0.482094, ..., -1.44099 , -0.170517,\n",
       "       -0.312644])"
      ]
     },
     "metadata": {},
     "output_type": "display_data"
    },
    {
     "data": {
      "image/png": "[encoded data removed]",
      "text/plain": [
       "<Figure size 432x288 with 1 Axes>"
      ]
     },
     "metadata": {
      "needs_background": "dark"
     },
     "output_type": "display_data"
    }
   ],
   "source": [
    "# Generated data display\n",
    "df1 = samples_code1.draws_pd()\n",
    "display(df1)\n",
    "\n",
    "y1 = samples_code1.stan_variable('y')[0]\n",
    "display(y1)\n",
    "\n",
    "# Histogram\n",
    "plt.hist(y1, bins=10, color=\"lightblue\", edgecolor=\"black\", linewidth=2)\n",
    "plt.tick_params(axis='both', colors='grey')\n",
    "plt.show()"
   ]
  },
  {
   "cell_type": "code",
   "execution_count": 13,
   "metadata": {},
   "outputs": [
    {
     "name": "stderr",
     "output_type": "stream",
     "text": [
      "INFO:cmdstanpy:compiling stan file /lab6/code_2.stan to exe file /lab6/code_2\n",
      "INFO:cmdstanpy:compiled model executable: /lab6/code_2\n",
      "INFO:cmdstanpy:CmdStan start processing\n",
      "chain 1 |\u001b[34m██████████\u001b[0m| 00:01 Sampling completed                      "
     ]
    },
    {
     "name": "stdout",
     "output_type": "stream",
     "text": [
      "                                                                                "
     ]
    },
    {
     "name": "stderr",
     "output_type": "stream",
     "text": [
      "\n",
      "INFO:cmdstanpy:CmdStan done processing.\n"
     ]
    },
    {
     "name": "stdout",
     "output_type": "stream",
     "text": [
      "\n"
     ]
    }
   ],
   "source": [
    "model_code2 = CmdStanModel(stan_file='lab6/code_2.stan')\n",
    "samples_code2 = model_code2.sample(data={'N': N}, \n",
    "                                   iter_sampling=1000, \n",
    "                                   iter_warmup=0, \n",
    "                                   chains = 1)"
   ]
  },
  {
   "cell_type": "code",
   "execution_count": 16,
   "metadata": {},
   "outputs": [
    {
     "data": {
      "text/html": [
       "<div>\n",
       "<style scoped>\n",
       "    .dataframe tbody tr th:only-of-type {\n",
       "        vertical-align: middle;\n",
       "    }\n",
       "\n",
       "    .dataframe tbody tr th {\n",
       "        vertical-align: top;\n",
       "    }\n",
       "\n",
       "    .dataframe thead th {\n",
       "        text-align: right;\n",
       "    }\n",
       "</style>\n",
       "<table border=\"1\" class=\"dataframe\">\n",
       "  <thead>\n",
       "    <tr style=\"text-align: right;\">\n",
       "      <th></th>\n",
       "      <th>lp__</th>\n",
       "      <th>accept_stat__</th>\n",
       "      <th>X[1,1]</th>\n",
       "      <th>X[2,1]</th>\n",
       "      <th>X[3,1]</th>\n",
       "      <th>X[4,1]</th>\n",
       "      <th>X[5,1]</th>\n",
       "      <th>X[6,1]</th>\n",
       "      <th>X[7,1]</th>\n",
       "      <th>X[8,1]</th>\n",
       "      <th>...</th>\n",
       "      <th>y[1191]</th>\n",
       "      <th>y[1192]</th>\n",
       "      <th>y[1193]</th>\n",
       "      <th>y[1194]</th>\n",
       "      <th>y[1195]</th>\n",
       "      <th>y[1196]</th>\n",
       "      <th>y[1197]</th>\n",
       "      <th>y[1198]</th>\n",
       "      <th>y[1199]</th>\n",
       "      <th>y[1200]</th>\n",
       "    </tr>\n",
       "  </thead>\n",
       "  <tbody>\n",
       "    <tr>\n",
       "      <th>0</th>\n",
       "      <td>0.0</td>\n",
       "      <td>0.0</td>\n",
       "      <td>-0.376254</td>\n",
       "      <td>-0.292122</td>\n",
       "      <td>1.256740</td>\n",
       "      <td>0.326461</td>\n",
       "      <td>-0.526757</td>\n",
       "      <td>1.059820</td>\n",
       "      <td>-0.193529</td>\n",
       "      <td>0.055258</td>\n",
       "      <td>...</td>\n",
       "      <td>1.068750</td>\n",
       "      <td>-1.407730</td>\n",
       "      <td>0.397652</td>\n",
       "      <td>0.269098</td>\n",
       "      <td>3.18787</td>\n",
       "      <td>0.066080</td>\n",
       "      <td>2.441150</td>\n",
       "      <td>0.485026</td>\n",
       "      <td>0.287855</td>\n",
       "      <td>-0.610259</td>\n",
       "    </tr>\n",
       "    <tr>\n",
       "      <th>1</th>\n",
       "      <td>0.0</td>\n",
       "      <td>0.0</td>\n",
       "      <td>-1.884030</td>\n",
       "      <td>0.478204</td>\n",
       "      <td>0.696236</td>\n",
       "      <td>1.705000</td>\n",
       "      <td>0.467619</td>\n",
       "      <td>-0.476480</td>\n",
       "      <td>-1.197140</td>\n",
       "      <td>1.082880</td>\n",
       "      <td>...</td>\n",
       "      <td>-2.399620</td>\n",
       "      <td>1.665810</td>\n",
       "      <td>-0.635563</td>\n",
       "      <td>-3.368950</td>\n",
       "      <td>2.84962</td>\n",
       "      <td>-0.172189</td>\n",
       "      <td>5.016260</td>\n",
       "      <td>1.261240</td>\n",
       "      <td>0.153350</td>\n",
       "      <td>4.035510</td>\n",
       "    </tr>\n",
       "    <tr>\n",
       "      <th>2</th>\n",
       "      <td>0.0</td>\n",
       "      <td>0.0</td>\n",
       "      <td>-0.419660</td>\n",
       "      <td>-0.451945</td>\n",
       "      <td>-1.134340</td>\n",
       "      <td>1.724300</td>\n",
       "      <td>1.412010</td>\n",
       "      <td>-0.777066</td>\n",
       "      <td>-0.428721</td>\n",
       "      <td>-0.193033</td>\n",
       "      <td>...</td>\n",
       "      <td>3.700790</td>\n",
       "      <td>0.401196</td>\n",
       "      <td>6.853980</td>\n",
       "      <td>1.793140</td>\n",
       "      <td>-4.15003</td>\n",
       "      <td>1.438060</td>\n",
       "      <td>-0.918720</td>\n",
       "      <td>0.754052</td>\n",
       "      <td>-0.494004</td>\n",
       "      <td>-0.311922</td>\n",
       "    </tr>\n",
       "    <tr>\n",
       "      <th>3</th>\n",
       "      <td>0.0</td>\n",
       "      <td>0.0</td>\n",
       "      <td>-0.617655</td>\n",
       "      <td>0.225497</td>\n",
       "      <td>-0.465508</td>\n",
       "      <td>0.980654</td>\n",
       "      <td>-0.816727</td>\n",
       "      <td>-0.544997</td>\n",
       "      <td>0.057137</td>\n",
       "      <td>1.257230</td>\n",
       "      <td>...</td>\n",
       "      <td>0.507296</td>\n",
       "      <td>-1.565370</td>\n",
       "      <td>-1.048950</td>\n",
       "      <td>0.857628</td>\n",
       "      <td>-4.91176</td>\n",
       "      <td>-3.298060</td>\n",
       "      <td>-2.195940</td>\n",
       "      <td>2.164060</td>\n",
       "      <td>1.711760</td>\n",
       "      <td>1.813790</td>\n",
       "    </tr>\n",
       "    <tr>\n",
       "      <th>4</th>\n",
       "      <td>0.0</td>\n",
       "      <td>0.0</td>\n",
       "      <td>-0.065550</td>\n",
       "      <td>-1.002970</td>\n",
       "      <td>1.357500</td>\n",
       "      <td>0.393836</td>\n",
       "      <td>-0.568811</td>\n",
       "      <td>0.921881</td>\n",
       "      <td>-1.603080</td>\n",
       "      <td>1.291350</td>\n",
       "      <td>...</td>\n",
       "      <td>1.701080</td>\n",
       "      <td>-3.002220</td>\n",
       "      <td>-1.739220</td>\n",
       "      <td>4.846860</td>\n",
       "      <td>7.00472</td>\n",
       "      <td>0.657151</td>\n",
       "      <td>-1.114810</td>\n",
       "      <td>4.910890</td>\n",
       "      <td>1.631120</td>\n",
       "      <td>-2.254630</td>\n",
       "    </tr>\n",
       "    <tr>\n",
       "      <th>...</th>\n",
       "      <td>...</td>\n",
       "      <td>...</td>\n",
       "      <td>...</td>\n",
       "      <td>...</td>\n",
       "      <td>...</td>\n",
       "      <td>...</td>\n",
       "      <td>...</td>\n",
       "      <td>...</td>\n",
       "      <td>...</td>\n",
       "      <td>...</td>\n",
       "      <td>...</td>\n",
       "      <td>...</td>\n",
       "      <td>...</td>\n",
       "      <td>...</td>\n",
       "      <td>...</td>\n",
       "      <td>...</td>\n",
       "      <td>...</td>\n",
       "      <td>...</td>\n",
       "      <td>...</td>\n",
       "      <td>...</td>\n",
       "      <td>...</td>\n",
       "    </tr>\n",
       "    <tr>\n",
       "      <th>995</th>\n",
       "      <td>0.0</td>\n",
       "      <td>0.0</td>\n",
       "      <td>0.007377</td>\n",
       "      <td>-0.186770</td>\n",
       "      <td>-0.553557</td>\n",
       "      <td>0.815378</td>\n",
       "      <td>1.798270</td>\n",
       "      <td>-0.293360</td>\n",
       "      <td>0.216782</td>\n",
       "      <td>0.294892</td>\n",
       "      <td>...</td>\n",
       "      <td>0.945115</td>\n",
       "      <td>3.506520</td>\n",
       "      <td>-0.753576</td>\n",
       "      <td>-0.125803</td>\n",
       "      <td>4.00486</td>\n",
       "      <td>1.230470</td>\n",
       "      <td>-1.226150</td>\n",
       "      <td>-9.719460</td>\n",
       "      <td>0.569979</td>\n",
       "      <td>-0.089458</td>\n",
       "    </tr>\n",
       "    <tr>\n",
       "      <th>996</th>\n",
       "      <td>0.0</td>\n",
       "      <td>0.0</td>\n",
       "      <td>-1.006610</td>\n",
       "      <td>0.540260</td>\n",
       "      <td>0.323275</td>\n",
       "      <td>1.523600</td>\n",
       "      <td>-0.393468</td>\n",
       "      <td>-1.118470</td>\n",
       "      <td>0.561683</td>\n",
       "      <td>0.609075</td>\n",
       "      <td>...</td>\n",
       "      <td>-1.877820</td>\n",
       "      <td>-3.913990</td>\n",
       "      <td>2.209760</td>\n",
       "      <td>1.411380</td>\n",
       "      <td>1.22497</td>\n",
       "      <td>-2.275620</td>\n",
       "      <td>-4.540030</td>\n",
       "      <td>2.903770</td>\n",
       "      <td>4.427450</td>\n",
       "      <td>-0.632904</td>\n",
       "    </tr>\n",
       "    <tr>\n",
       "      <th>997</th>\n",
       "      <td>0.0</td>\n",
       "      <td>0.0</td>\n",
       "      <td>0.143795</td>\n",
       "      <td>-1.024170</td>\n",
       "      <td>-0.514495</td>\n",
       "      <td>-0.635287</td>\n",
       "      <td>1.963880</td>\n",
       "      <td>-0.507242</td>\n",
       "      <td>0.015991</td>\n",
       "      <td>-0.669973</td>\n",
       "      <td>...</td>\n",
       "      <td>0.857007</td>\n",
       "      <td>2.092550</td>\n",
       "      <td>0.148145</td>\n",
       "      <td>1.510380</td>\n",
       "      <td>-2.39582</td>\n",
       "      <td>1.857540</td>\n",
       "      <td>-2.557730</td>\n",
       "      <td>-1.294900</td>\n",
       "      <td>1.745960</td>\n",
       "      <td>1.838640</td>\n",
       "    </tr>\n",
       "    <tr>\n",
       "      <th>998</th>\n",
       "      <td>0.0</td>\n",
       "      <td>0.0</td>\n",
       "      <td>-0.187037</td>\n",
       "      <td>0.691906</td>\n",
       "      <td>-0.457922</td>\n",
       "      <td>1.836320</td>\n",
       "      <td>1.143830</td>\n",
       "      <td>0.679931</td>\n",
       "      <td>-1.139820</td>\n",
       "      <td>-0.599656</td>\n",
       "      <td>...</td>\n",
       "      <td>10.362500</td>\n",
       "      <td>-5.234890</td>\n",
       "      <td>1.474730</td>\n",
       "      <td>-1.872370</td>\n",
       "      <td>1.45544</td>\n",
       "      <td>-5.326690</td>\n",
       "      <td>0.350730</td>\n",
       "      <td>-1.154030</td>\n",
       "      <td>0.002478</td>\n",
       "      <td>-3.642260</td>\n",
       "    </tr>\n",
       "    <tr>\n",
       "      <th>999</th>\n",
       "      <td>0.0</td>\n",
       "      <td>0.0</td>\n",
       "      <td>-1.088390</td>\n",
       "      <td>-0.223094</td>\n",
       "      <td>1.400550</td>\n",
       "      <td>0.411624</td>\n",
       "      <td>1.548180</td>\n",
       "      <td>-0.730736</td>\n",
       "      <td>0.155652</td>\n",
       "      <td>0.088722</td>\n",
       "      <td>...</td>\n",
       "      <td>-1.202090</td>\n",
       "      <td>-0.145626</td>\n",
       "      <td>1.637830</td>\n",
       "      <td>-0.369903</td>\n",
       "      <td>3.60088</td>\n",
       "      <td>1.983180</td>\n",
       "      <td>0.928928</td>\n",
       "      <td>-1.924850</td>\n",
       "      <td>3.852940</td>\n",
       "      <td>-0.745909</td>\n",
       "    </tr>\n",
       "  </tbody>\n",
       "</table>\n",
       "<p>1000 rows × 4805 columns</p>\n",
       "</div>"
      ],
      "text/plain": [
       "     lp__  accept_stat__    X[1,1]    X[2,1]    X[3,1]    X[4,1]    X[5,1]  \\\n",
       "0     0.0            0.0 -0.376254 -0.292122  1.256740  0.326461 -0.526757   \n",
       "1     0.0            0.0 -1.884030  0.478204  0.696236  1.705000  0.467619   \n",
       "2     0.0            0.0 -0.419660 -0.451945 -1.134340  1.724300  1.412010   \n",
       "3     0.0            0.0 -0.617655  0.225497 -0.465508  0.980654 -0.816727   \n",
       "4     0.0            0.0 -0.065550 -1.002970  1.357500  0.393836 -0.568811   \n",
       "..    ...            ...       ...       ...       ...       ...       ...   \n",
       "995   0.0            0.0  0.007377 -0.186770 -0.553557  0.815378  1.798270   \n",
       "996   0.0            0.0 -1.006610  0.540260  0.323275  1.523600 -0.393468   \n",
       "997   0.0            0.0  0.143795 -1.024170 -0.514495 -0.635287  1.963880   \n",
       "998   0.0            0.0 -0.187037  0.691906 -0.457922  1.836320  1.143830   \n",
       "999   0.0            0.0 -1.088390 -0.223094  1.400550  0.411624  1.548180   \n",
       "\n",
       "       X[6,1]    X[7,1]    X[8,1]  ...    y[1191]   y[1192]   y[1193]  \\\n",
       "0    1.059820 -0.193529  0.055258  ...   1.068750 -1.407730  0.397652   \n",
       "1   -0.476480 -1.197140  1.082880  ...  -2.399620  1.665810 -0.635563   \n",
       "2   -0.777066 -0.428721 -0.193033  ...   3.700790  0.401196  6.853980   \n",
       "3   -0.544997  0.057137  1.257230  ...   0.507296 -1.565370 -1.048950   \n",
       "4    0.921881 -1.603080  1.291350  ...   1.701080 -3.002220 -1.739220   \n",
       "..        ...       ...       ...  ...        ...       ...       ...   \n",
       "995 -0.293360  0.216782  0.294892  ...   0.945115  3.506520 -0.753576   \n",
       "996 -1.118470  0.561683  0.609075  ...  -1.877820 -3.913990  2.209760   \n",
       "997 -0.507242  0.015991 -0.669973  ...   0.857007  2.092550  0.148145   \n",
       "998  0.679931 -1.139820 -0.599656  ...  10.362500 -5.234890  1.474730   \n",
       "999 -0.730736  0.155652  0.088722  ...  -1.202090 -0.145626  1.637830   \n",
       "\n",
       "      y[1194]  y[1195]   y[1196]   y[1197]   y[1198]   y[1199]   y[1200]  \n",
       "0    0.269098  3.18787  0.066080  2.441150  0.485026  0.287855 -0.610259  \n",
       "1   -3.368950  2.84962 -0.172189  5.016260  1.261240  0.153350  4.035510  \n",
       "2    1.793140 -4.15003  1.438060 -0.918720  0.754052 -0.494004 -0.311922  \n",
       "3    0.857628 -4.91176 -3.298060 -2.195940  2.164060  1.711760  1.813790  \n",
       "4    4.846860  7.00472  0.657151 -1.114810  4.910890  1.631120 -2.254630  \n",
       "..        ...      ...       ...       ...       ...       ...       ...  \n",
       "995 -0.125803  4.00486  1.230470 -1.226150 -9.719460  0.569979 -0.089458  \n",
       "996  1.411380  1.22497 -2.275620 -4.540030  2.903770  4.427450 -0.632904  \n",
       "997  1.510380 -2.39582  1.857540 -2.557730 -1.294900  1.745960  1.838640  \n",
       "998 -1.872370  1.45544 -5.326690  0.350730 -1.154030  0.002478 -3.642260  \n",
       "999 -0.369903  3.60088  1.983180  0.928928 -1.924850  3.852940 -0.745909  \n",
       "\n",
       "[1000 rows x 4805 columns]"
      ]
     },
     "metadata": {},
     "output_type": "display_data"
    },
    {
     "data": {
      "text/plain": [
       "array([ 0.812034,  0.585622,  1.32303 , ...,  0.485026,  0.287855,\n",
       "       -0.610259])"
      ]
     },
     "metadata": {},
     "output_type": "display_data"
    },
    {
     "data": {
      "image/png": "[encoded data removed]",
      "text/plain": [
       "<Figure size 432x288 with 1 Axes>"
      ]
     },
     "metadata": {
      "needs_background": "dark"
     },
     "output_type": "display_data"
    }
   ],
   "source": [
    "# Generated data display\n",
    "df2 = samples_code2.draws_pd()\n",
    "display(df2)\n",
    "\n",
    "y2 = samples_code2.stan_variable('y')[0]\n",
    "display(y2)\n",
    "\n",
    "# Histogram\n",
    "plt.hist(y2, bins=10, color='lightblue', edgecolor='black', linewidth=2)\n",
    "plt.tick_params(axis='both', colors='grey')\n",
    "plt.show()\n"
   ]
  },
  {
   "cell_type": "markdown",
   "metadata": {},
   "source": [
    "Excercise 2 - compare normal and student models for data from first file"
   ]
  },
  {
   "cell_type": "markdown",
   "metadata": {},
   "source": [
    "1. Compile both models"
   ]
  },
  {
   "cell_type": "code",
   "execution_count": 18,
   "metadata": {},
   "outputs": [
    {
     "name": "stderr",
     "output_type": "stream",
     "text": [
      "INFO:cmdstanpy:compiling stan file /lab6/code_3.stan to exe file /lab6/code_3\n",
      "INFO:cmdstanpy:compiled model executable: /lab6/code_3\n",
      "INFO:cmdstanpy:compiling stan file /lab6/code_4.stan to exe file /lab6/code_4\n",
      "INFO:cmdstanpy:compiled model executable: /lab6/code_4\n"
     ]
    }
   ],
   "source": [
    "model_code3 = CmdStanModel(stan_file='lab6/code_3.stan')\n",
    "model_code4 = CmdStanModel(stan_file='lab6/code_4.stan')"
   ]
  },
  {
   "cell_type": "markdown",
   "metadata": {},
   "source": [
    "2. Fit both models"
   ]
  },
  {
   "cell_type": "code",
   "execution_count": 19,
   "metadata": {},
   "outputs": [
    {
     "name": "stderr",
     "output_type": "stream",
     "text": [
      "INFO:cmdstanpy:CmdStan start processing\n",
      "chain 1 |\u001b[34m██████████\u001b[0m| 00:01 Sampling completed                       "
     ]
    },
    {
     "name": "stdout",
     "output_type": "stream",
     "text": [
      "                                                                                "
     ]
    },
    {
     "name": "stderr",
     "output_type": "stream",
     "text": [
      "\n",
      "INFO:cmdstanpy:CmdStan done processing.\n",
      "INFO:cmdstanpy:CmdStan start processing\n"
     ]
    },
    {
     "name": "stdout",
     "output_type": "stream",
     "text": [
      "\n"
     ]
    },
    {
     "name": "stderr",
     "output_type": "stream",
     "text": [
      "chain 1 |\u001b[34m██████████\u001b[0m| 00:00 Sampling completed                       "
     ]
    },
    {
     "name": "stdout",
     "output_type": "stream",
     "text": [
      "                                                                                "
     ]
    },
    {
     "name": "stderr",
     "output_type": "stream",
     "text": [
      "\n",
      "INFO:cmdstanpy:CmdStan done processing.\n"
     ]
    },
    {
     "name": "stdout",
     "output_type": "stream",
     "text": [
      "\n"
     ]
    },
    {
     "name": "stderr",
     "output_type": "stream",
     "text": [
      "INFO:cmdstanpy:CmdStan start processing\n",
      "chain 1 |\u001b[34m██████████\u001b[0m| 00:01 Sampling completed                       "
     ]
    },
    {
     "name": "stdout",
     "output_type": "stream",
     "text": [
      "                                                                                "
     ]
    },
    {
     "name": "stderr",
     "output_type": "stream",
     "text": [
      "\n",
      "INFO:cmdstanpy:CmdStan done processing.\n",
      "INFO:cmdstanpy:CmdStan start processing\n"
     ]
    },
    {
     "name": "stdout",
     "output_type": "stream",
     "text": [
      "\n"
     ]
    },
    {
     "name": "stderr",
     "output_type": "stream",
     "text": [
      "chain 1 |\u001b[34m██████████\u001b[0m| 00:01 Sampling completed                       "
     ]
    },
    {
     "name": "stdout",
     "output_type": "stream",
     "text": [
      "                                                                                "
     ]
    },
    {
     "name": "stderr",
     "output_type": "stream",
     "text": [
      "\n",
      "INFO:cmdstanpy:CmdStan done processing.\n"
     ]
    },
    {
     "name": "stdout",
     "output_type": "stream",
     "text": [
      "\n"
     ]
    }
   ],
   "source": [
    "# Model3\n",
    "fit3_1 = model_code3.sample(data={'N': N, 'y': y1}, \n",
    "                        iter_sampling=1000, \n",
    "                        iter_warmup=1, \n",
    "                        chains=1)\n",
    "\n",
    "fit3_2 = model_code3.sample(data={'N': N, 'y': y2}, \n",
    "                        iter_sampling=1000, \n",
    "                        iter_warmup=1, \n",
    "                        chains = 1)\n",
    "\n",
    "df3_1 = fit3_1.draws_pd()\n",
    "df3_2 = fit3_2.draws_pd()\n",
    "\n",
    "# Model4\n",
    "fit4_1 = model_code4.sample(data={'N': N, 'y': y1}, \n",
    "                        iter_sampling=1000, \n",
    "                        iter_warmup=1, \n",
    "                        chains=1)\n",
    "\n",
    "fit4_2 = model_code4.sample(data={'N': N, 'y': y2}, \n",
    "                        iter_sampling=1000, \n",
    "                        iter_warmup=1, \n",
    "                        chains = 1)\n",
    "\n",
    "df4_1 = fit4_1.draws_pd()\n",
    "df4_2 = fit4_2.draws_pd()"
   ]
  },
  {
   "cell_type": "markdown",
   "metadata": {},
   "source": [
    "3. Using az.compare and az.plot_compare analyze both models using loo and waic criteria"
   ]
  },
  {
   "attachments": {},
   "cell_type": "markdown",
   "metadata": {},
   "source": [
    "3.1 WAIC"
   ]
  },
  {
   "cell_type": "code",
   "execution_count": 23,
   "metadata": {},
   "outputs": [
    {
     "data": {
      "text/html": [
       "<div>\n",
       "<style scoped>\n",
       "    .dataframe tbody tr th:only-of-type {\n",
       "        vertical-align: middle;\n",
       "    }\n",
       "\n",
       "    .dataframe tbody tr th {\n",
       "        vertical-align: top;\n",
       "    }\n",
       "\n",
       "    .dataframe thead th {\n",
       "        text-align: right;\n",
       "    }\n",
       "</style>\n",
       "<table border=\"1\" class=\"dataframe\">\n",
       "  <thead>\n",
       "    <tr style=\"text-align: right;\">\n",
       "      <th></th>\n",
       "      <th>rank</th>\n",
       "      <th>waic</th>\n",
       "      <th>p_waic</th>\n",
       "      <th>d_waic</th>\n",
       "      <th>weight</th>\n",
       "      <th>se</th>\n",
       "      <th>dse</th>\n",
       "      <th>warning</th>\n",
       "      <th>waic_scale</th>\n",
       "    </tr>\n",
       "  </thead>\n",
       "  <tbody>\n",
       "    <tr>\n",
       "      <th>model_code4</th>\n",
       "      <td>0</td>\n",
       "      <td>-1914.759787</td>\n",
       "      <td>2.446825e-28</td>\n",
       "      <td>0.000000</td>\n",
       "      <td>0.865614</td>\n",
       "      <td>40.736906</td>\n",
       "      <td>0.000000</td>\n",
       "      <td>False</td>\n",
       "      <td>log</td>\n",
       "    </tr>\n",
       "    <tr>\n",
       "      <th>model_code3</th>\n",
       "      <td>1</td>\n",
       "      <td>-2352.102740</td>\n",
       "      <td>7.440930e-28</td>\n",
       "      <td>437.342953</td>\n",
       "      <td>0.134386</td>\n",
       "      <td>59.160844</td>\n",
       "      <td>51.763433</td>\n",
       "      <td>False</td>\n",
       "      <td>log</td>\n",
       "    </tr>\n",
       "  </tbody>\n",
       "</table>\n",
       "</div>"
      ],
      "text/plain": [
       "             rank         waic        p_waic      d_waic    weight         se  \\\n",
       "model_code4     0 -1914.759787  2.446825e-28    0.000000  0.865614  40.736906   \n",
       "model_code3     1 -2352.102740  7.440930e-28  437.342953  0.134386  59.160844   \n",
       "\n",
       "                   dse  warning waic_scale  \n",
       "model_code4   0.000000    False        log  \n",
       "model_code3  51.763433    False        log  "
      ]
     },
     "metadata": {},
     "output_type": "display_data"
    },
    {
     "data": {
      "text/html": [
       "<div>\n",
       "<style scoped>\n",
       "    .dataframe tbody tr th:only-of-type {\n",
       "        vertical-align: middle;\n",
       "    }\n",
       "\n",
       "    .dataframe tbody tr th {\n",
       "        vertical-align: top;\n",
       "    }\n",
       "\n",
       "    .dataframe thead th {\n",
       "        text-align: right;\n",
       "    }\n",
       "</style>\n",
       "<table border=\"1\" class=\"dataframe\">\n",
       "  <thead>\n",
       "    <tr style=\"text-align: right;\">\n",
       "      <th></th>\n",
       "      <th>rank</th>\n",
       "      <th>waic</th>\n",
       "      <th>p_waic</th>\n",
       "      <th>d_waic</th>\n",
       "      <th>weight</th>\n",
       "      <th>se</th>\n",
       "      <th>dse</th>\n",
       "      <th>warning</th>\n",
       "      <th>waic_scale</th>\n",
       "    </tr>\n",
       "  </thead>\n",
       "  <tbody>\n",
       "    <tr>\n",
       "      <th>model_code3</th>\n",
       "      <td>0</td>\n",
       "      <td>-2996.46831</td>\n",
       "      <td>3.486765e-28</td>\n",
       "      <td>0.00000</td>\n",
       "      <td>0.693046</td>\n",
       "      <td>13.023633</td>\n",
       "      <td>0.000000</td>\n",
       "      <td>False</td>\n",
       "      <td>log</td>\n",
       "    </tr>\n",
       "    <tr>\n",
       "      <th>model_code4</th>\n",
       "      <td>1</td>\n",
       "      <td>-3076.51112</td>\n",
       "      <td>5.192184e-28</td>\n",
       "      <td>80.04281</td>\n",
       "      <td>0.306954</td>\n",
       "      <td>28.530729</td>\n",
       "      <td>20.363721</td>\n",
       "      <td>False</td>\n",
       "      <td>log</td>\n",
       "    </tr>\n",
       "  </tbody>\n",
       "</table>\n",
       "</div>"
      ],
      "text/plain": [
       "             rank        waic        p_waic    d_waic    weight         se  \\\n",
       "model_code3     0 -2996.46831  3.486765e-28   0.00000  0.693046  13.023633   \n",
       "model_code4     1 -3076.51112  5.192184e-28  80.04281  0.306954  28.530729   \n",
       "\n",
       "                   dse  warning waic_scale  \n",
       "model_code3   0.000000    False        log  \n",
       "model_code4  20.363721    False        log  "
      ]
     },
     "metadata": {},
     "output_type": "display_data"
    },
    {
     "data": {
      "text/plain": [
       "Text(0.5, 1.0, 'Model2 - WAIC')"
      ]
     },
     "execution_count": 23,
     "metadata": {},
     "output_type": "execute_result"
    },
    {
     "data": {
      "image/png": "[encoded data removed]",
      "text/plain": [
       "<Figure size 432x144 with 1 Axes>"
      ]
     },
     "metadata": {
      "needs_background": "dark"
     },
     "output_type": "display_data"
    },
    {
     "data": {
      "image/png": "[encoded data removed]",
      "text/plain": [
       "<Figure size 432x144 with 1 Axes>"
      ]
     },
     "metadata": {
      "needs_background": "dark"
     },
     "output_type": "display_data"
    }
   ],
   "source": [
    "data_1 = {'model_code3': fit3_1,'model_code4': fit4_1}\n",
    "data_2 = {'model_code3': fit3_2,'model_code4': fit4_2}\n",
    "\n",
    "# Model1\n",
    "model_waic_1_compare = az.compare(data_1, ic = 'waic')\n",
    "display(model_waic_1_compare.head())\n",
    "az.plot_compare(model_waic_1_compare)\n",
    "plt.tick_params(axis='both', colors='grey')\n",
    "plt.title('Model1 - WAIC', color = 'grey')\n",
    "\n",
    "# Model2\n",
    "model_waic_2_compare = az.compare(data_2, ic = 'waic')\n",
    "display(model_waic_2_compare.head())\n",
    "az.plot_compare(model_waic_2_compare)\n",
    "plt.tick_params(axis='both', colors='grey')\n",
    "plt.title('Model2 - WAIC', color = 'grey')\n"
   ]
  },
  {
   "cell_type": "markdown",
   "metadata": {},
   "source": [
    "3.2 LOO"
   ]
  },
  {
   "cell_type": "code",
   "execution_count": 24,
   "metadata": {},
   "outputs": [
    {
     "name": "stderr",
     "output_type": "stream",
     "text": [
      "/usr/local/lib/python3.9/site-packages/arviz/stats/stats.py:811: UserWarning: Estimated shape parameter of Pareto distribution is greater than 0.7 for one or more samples. You should consider using a more robust model, this is because importance sampling is less likely to work well if the marginal posterior and LOO posterior are very different. This is more likely to happen with a non-robust model and highly influential observations.\n",
      "  warnings.warn(\n",
      "/usr/local/lib/python3.9/site-packages/arviz/stats/stats.py:811: UserWarning: Estimated shape parameter of Pareto distribution is greater than 0.7 for one or more samples. You should consider using a more robust model, this is because importance sampling is less likely to work well if the marginal posterior and LOO posterior are very different. This is more likely to happen with a non-robust model and highly influential observations.\n",
      "  warnings.warn(\n"
     ]
    },
    {
     "data": {
      "text/html": [
       "<div>\n",
       "<style scoped>\n",
       "    .dataframe tbody tr th:only-of-type {\n",
       "        vertical-align: middle;\n",
       "    }\n",
       "\n",
       "    .dataframe tbody tr th {\n",
       "        vertical-align: top;\n",
       "    }\n",
       "\n",
       "    .dataframe thead th {\n",
       "        text-align: right;\n",
       "    }\n",
       "</style>\n",
       "<table border=\"1\" class=\"dataframe\">\n",
       "  <thead>\n",
       "    <tr style=\"text-align: right;\">\n",
       "      <th></th>\n",
       "      <th>rank</th>\n",
       "      <th>loo</th>\n",
       "      <th>p_loo</th>\n",
       "      <th>d_loo</th>\n",
       "      <th>weight</th>\n",
       "      <th>se</th>\n",
       "      <th>dse</th>\n",
       "      <th>warning</th>\n",
       "      <th>loo_scale</th>\n",
       "    </tr>\n",
       "  </thead>\n",
       "  <tbody>\n",
       "    <tr>\n",
       "      <th>model_code4</th>\n",
       "      <td>0</td>\n",
       "      <td>-1914.759787</td>\n",
       "      <td>0.0</td>\n",
       "      <td>0.000000</td>\n",
       "      <td>0.865614</td>\n",
       "      <td>40.736906</td>\n",
       "      <td>0.000000</td>\n",
       "      <td>True</td>\n",
       "      <td>log</td>\n",
       "    </tr>\n",
       "    <tr>\n",
       "      <th>model_code3</th>\n",
       "      <td>1</td>\n",
       "      <td>-2352.102740</td>\n",
       "      <td>0.0</td>\n",
       "      <td>437.342953</td>\n",
       "      <td>0.134386</td>\n",
       "      <td>59.160844</td>\n",
       "      <td>51.763433</td>\n",
       "      <td>True</td>\n",
       "      <td>log</td>\n",
       "    </tr>\n",
       "  </tbody>\n",
       "</table>\n",
       "</div>"
      ],
      "text/plain": [
       "             rank          loo  p_loo       d_loo    weight         se  \\\n",
       "model_code4     0 -1914.759787    0.0    0.000000  0.865614  40.736906   \n",
       "model_code3     1 -2352.102740    0.0  437.342953  0.134386  59.160844   \n",
       "\n",
       "                   dse  warning loo_scale  \n",
       "model_code4   0.000000     True       log  \n",
       "model_code3  51.763433     True       log  "
      ]
     },
     "metadata": {},
     "output_type": "display_data"
    },
    {
     "name": "stderr",
     "output_type": "stream",
     "text": [
      "/usr/local/lib/python3.9/site-packages/arviz/stats/stats.py:811: UserWarning: Estimated shape parameter of Pareto distribution is greater than 0.7 for one or more samples. You should consider using a more robust model, this is because importance sampling is less likely to work well if the marginal posterior and LOO posterior are very different. This is more likely to happen with a non-robust model and highly influential observations.\n",
      "  warnings.warn(\n",
      "/usr/local/lib/python3.9/site-packages/arviz/stats/stats.py:811: UserWarning: Estimated shape parameter of Pareto distribution is greater than 0.7 for one or more samples. You should consider using a more robust model, this is because importance sampling is less likely to work well if the marginal posterior and LOO posterior are very different. This is more likely to happen with a non-robust model and highly influential observations.\n",
      "  warnings.warn(\n"
     ]
    },
    {
     "data": {
      "text/html": [
       "<div>\n",
       "<style scoped>\n",
       "    .dataframe tbody tr th:only-of-type {\n",
       "        vertical-align: middle;\n",
       "    }\n",
       "\n",
       "    .dataframe tbody tr th {\n",
       "        vertical-align: top;\n",
       "    }\n",
       "\n",
       "    .dataframe thead th {\n",
       "        text-align: right;\n",
       "    }\n",
       "</style>\n",
       "<table border=\"1\" class=\"dataframe\">\n",
       "  <thead>\n",
       "    <tr style=\"text-align: right;\">\n",
       "      <th></th>\n",
       "      <th>rank</th>\n",
       "      <th>loo</th>\n",
       "      <th>p_loo</th>\n",
       "      <th>d_loo</th>\n",
       "      <th>weight</th>\n",
       "      <th>se</th>\n",
       "      <th>dse</th>\n",
       "      <th>warning</th>\n",
       "      <th>loo_scale</th>\n",
       "    </tr>\n",
       "  </thead>\n",
       "  <tbody>\n",
       "    <tr>\n",
       "      <th>model_code3</th>\n",
       "      <td>0</td>\n",
       "      <td>-2996.46831</td>\n",
       "      <td>0.0</td>\n",
       "      <td>0.00000</td>\n",
       "      <td>0.693046</td>\n",
       "      <td>13.023633</td>\n",
       "      <td>0.000000</td>\n",
       "      <td>True</td>\n",
       "      <td>log</td>\n",
       "    </tr>\n",
       "    <tr>\n",
       "      <th>model_code4</th>\n",
       "      <td>1</td>\n",
       "      <td>-3076.51112</td>\n",
       "      <td>0.0</td>\n",
       "      <td>80.04281</td>\n",
       "      <td>0.306954</td>\n",
       "      <td>28.530729</td>\n",
       "      <td>20.363721</td>\n",
       "      <td>True</td>\n",
       "      <td>log</td>\n",
       "    </tr>\n",
       "  </tbody>\n",
       "</table>\n",
       "</div>"
      ],
      "text/plain": [
       "             rank         loo  p_loo     d_loo    weight         se  \\\n",
       "model_code3     0 -2996.46831    0.0   0.00000  0.693046  13.023633   \n",
       "model_code4     1 -3076.51112    0.0  80.04281  0.306954  28.530729   \n",
       "\n",
       "                   dse  warning loo_scale  \n",
       "model_code3   0.000000     True       log  \n",
       "model_code4  20.363721     True       log  "
      ]
     },
     "metadata": {},
     "output_type": "display_data"
    },
    {
     "data": {
      "text/plain": [
       "Text(0.5, 1.0, 'Model2 - LOO')"
      ]
     },
     "execution_count": 24,
     "metadata": {},
     "output_type": "execute_result"
    },
    {
     "data": {
      "image/png": "[encoded data removed]",
      "text/plain": [
       "<Figure size 432x144 with 1 Axes>"
      ]
     },
     "metadata": {
      "needs_background": "dark"
     },
     "output_type": "display_data"
    },
    {
     "data": {
      "image/png": "[encoded data removed]",
      "text/plain": [
       "<Figure size 432x144 with 1 Axes>"
      ]
     },
     "metadata": {
      "needs_background": "dark"
     },
     "output_type": "display_data"
    }
   ],
   "source": [
    "# Model1\n",
    "model_waic_1_compare = az.compare(data_1, ic = 'loo', method=\"stacking\")\n",
    "display(model_waic_1_compare.head())\n",
    "az.plot_compare(model_waic_1_compare)\n",
    "plt.tick_params(axis='both', colors='grey')\n",
    "plt.title('Model1 - LOO', color = 'grey')\n",
    "\n",
    "# Model2\n",
    "model_waic_2_compare = az.compare(data_2, ic = 'loo', method=\"stacking\")\n",
    "display(model_waic_2_compare.head())\n",
    "az.plot_compare(model_waic_2_compare)\n",
    "plt.tick_params(axis='both', colors='grey')\n",
    "plt.title('Model2 - LOO', color = 'grey')"
   ]
  },
  {
   "cell_type": "markdown",
   "metadata": {},
   "source": [
    "Excercise 3 - compare models with different numbers of predictors"
   ]
  },
  {
   "cell_type": "markdown",
   "metadata": {},
   "source": [
    "1. Compile model"
   ]
  },
  {
   "cell_type": "code",
   "execution_count": 25,
   "metadata": {},
   "outputs": [
    {
     "name": "stderr",
     "output_type": "stream",
     "text": [
      "INFO:cmdstanpy:compiling stan file /lab6/code_5.stan to exe file /lab6/code_5\n",
      "INFO:cmdstanpy:compiled model executable: /lab6/code_5\n"
     ]
    }
   ],
   "source": [
    "model_code5 = CmdStanModel(stan_file='lab6/code_5.stan')"
   ]
  },
  {
   "cell_type": "code",
   "execution_count": 28,
   "metadata": {},
   "outputs": [
    {
     "name": "stderr",
     "output_type": "stream",
     "text": [
      "INFO:cmdstanpy:CmdStan start processing\n",
      "chain 1 |\u001b[34m██████████\u001b[0m| 00:01 Sampling completed                      "
     ]
    },
    {
     "name": "stdout",
     "output_type": "stream",
     "text": [
      "                                                                                "
     ]
    },
    {
     "name": "stderr",
     "output_type": "stream",
     "text": [
      "\n",
      "INFO:cmdstanpy:CmdStan done processing.\n"
     ]
    },
    {
     "name": "stdout",
     "output_type": "stream",
     "text": [
      "\n"
     ]
    },
    {
     "name": "stderr",
     "output_type": "stream",
     "text": [
      "INFO:cmdstanpy:CmdStan start processing\n",
      "chain 1 |\u001b[34m██████████\u001b[0m| 00:01 Sampling completed                      "
     ]
    },
    {
     "name": "stdout",
     "output_type": "stream",
     "text": [
      "                                                                                "
     ]
    },
    {
     "name": "stderr",
     "output_type": "stream",
     "text": [
      "\n",
      "INFO:cmdstanpy:CmdStan done processing.\n"
     ]
    },
    {
     "name": "stdout",
     "output_type": "stream",
     "text": [
      "\n"
     ]
    },
    {
     "name": "stderr",
     "output_type": "stream",
     "text": [
      "INFO:cmdstanpy:CmdStan start processing\n",
      "chain 1 |\u001b[34m██████████\u001b[0m| 00:01 Sampling completed                      "
     ]
    },
    {
     "name": "stdout",
     "output_type": "stream",
     "text": [
      "                                                                                "
     ]
    },
    {
     "name": "stderr",
     "output_type": "stream",
     "text": [
      "\n",
      "INFO:cmdstanpy:CmdStan done processing.\n"
     ]
    },
    {
     "name": "stdout",
     "output_type": "stream",
     "text": [
      "\n"
     ]
    }
   ],
   "source": [
    "x = samples_code2.stan_variable('X')\n",
    "\n",
    "x1 = x.reshape(1000,-1)[0:1,:N]\n",
    "x1 = np.transpose(x1)\n",
    "fit5_1 = model_code5.sample(data={'N':N, 'K': 1, 'y':y2,'X':x1},\n",
    "                            fixed_param=True, \n",
    "                            iter_sampling=1000, \n",
    "                            iter_warmup=1, \n",
    "                            chains = 1)\n",
    "\n",
    "x2 = x.reshape(1000,-1)[0:2,:N]\n",
    "x2 = np.transpose(x2)\n",
    "fit5_2 = model_code5.sample(data={'N':N, 'K': 2, 'y':y2,'X':x2},\n",
    "                            fixed_param=True, \n",
    "                            iter_sampling=1000, \n",
    "                            iter_warmup=1, \n",
    "                            chains = 1)\n",
    "\n",
    "x3 = x.reshape(1000,-1)[0:3,:N]\n",
    "x3 = np.transpose(x3)\n",
    "fit5_3 = model_code5.sample(data={'N':N, 'K': 3, 'y':y2,'X':x3},\n",
    "                            fixed_param=True, \n",
    "                            iter_sampling=1000, \n",
    "                            iter_warmup=1, \n",
    "                            chains = 1)                            "
   ]
  },
  {
   "cell_type": "markdown",
   "metadata": {},
   "source": [
    "2. Compare models for 1, 2 and 3 predictors as in previous excercise"
   ]
  },
  {
   "cell_type": "code",
   "execution_count": 29,
   "metadata": {},
   "outputs": [
    {
     "name": "stderr",
     "output_type": "stream",
     "text": [
      "/usr/local/lib/python3.9/site-packages/arviz/stats/stats.py:811: UserWarning: Estimated shape parameter of Pareto distribution is greater than 0.7 for one or more samples. You should consider using a more robust model, this is because importance sampling is less likely to work well if the marginal posterior and LOO posterior are very different. This is more likely to happen with a non-robust model and highly influential observations.\n",
      "  warnings.warn(\n",
      "/usr/local/lib/python3.9/site-packages/arviz/stats/stats.py:811: UserWarning: Estimated shape parameter of Pareto distribution is greater than 0.7 for one or more samples. You should consider using a more robust model, this is because importance sampling is less likely to work well if the marginal posterior and LOO posterior are very different. This is more likely to happen with a non-robust model and highly influential observations.\n",
      "  warnings.warn(\n",
      "/usr/local/lib/python3.9/site-packages/arviz/stats/stats.py:811: UserWarning: Estimated shape parameter of Pareto distribution is greater than 0.7 for one or more samples. You should consider using a more robust model, this is because importance sampling is less likely to work well if the marginal posterior and LOO posterior are very different. This is more likely to happen with a non-robust model and highly influential observations.\n",
      "  warnings.warn(\n"
     ]
    },
    {
     "data": {
      "text/html": [
       "<div>\n",
       "<style scoped>\n",
       "    .dataframe tbody tr th:only-of-type {\n",
       "        vertical-align: middle;\n",
       "    }\n",
       "\n",
       "    .dataframe tbody tr th {\n",
       "        vertical-align: top;\n",
       "    }\n",
       "\n",
       "    .dataframe thead th {\n",
       "        text-align: right;\n",
       "    }\n",
       "</style>\n",
       "<table border=\"1\" class=\"dataframe\">\n",
       "  <thead>\n",
       "    <tr style=\"text-align: right;\">\n",
       "      <th></th>\n",
       "      <th>rank</th>\n",
       "      <th>loo</th>\n",
       "      <th>p_loo</th>\n",
       "      <th>d_loo</th>\n",
       "      <th>weight</th>\n",
       "      <th>se</th>\n",
       "      <th>dse</th>\n",
       "      <th>warning</th>\n",
       "      <th>loo_scale</th>\n",
       "    </tr>\n",
       "  </thead>\n",
       "  <tbody>\n",
       "    <tr>\n",
       "      <th>fit5_3</th>\n",
       "      <td>0</td>\n",
       "      <td>-3039.514950</td>\n",
       "      <td>0.0</td>\n",
       "      <td>0.000000</td>\n",
       "      <td>0.697966</td>\n",
       "      <td>31.959835</td>\n",
       "      <td>0.000000</td>\n",
       "      <td>True</td>\n",
       "      <td>log</td>\n",
       "    </tr>\n",
       "    <tr>\n",
       "      <th>fit5_1</th>\n",
       "      <td>1</td>\n",
       "      <td>-4302.453710</td>\n",
       "      <td>0.0</td>\n",
       "      <td>1262.938760</td>\n",
       "      <td>0.298366</td>\n",
       "      <td>114.835339</td>\n",
       "      <td>112.488933</td>\n",
       "      <td>True</td>\n",
       "      <td>log</td>\n",
       "    </tr>\n",
       "    <tr>\n",
       "      <th>fit5_2</th>\n",
       "      <td>2</td>\n",
       "      <td>-212882.231279</td>\n",
       "      <td>0.0</td>\n",
       "      <td>209842.716329</td>\n",
       "      <td>0.003668</td>\n",
       "      <td>9014.180538</td>\n",
       "      <td>9005.322069</td>\n",
       "      <td>True</td>\n",
       "      <td>log</td>\n",
       "    </tr>\n",
       "  </tbody>\n",
       "</table>\n",
       "</div>"
      ],
      "text/plain": [
       "        rank            loo  p_loo          d_loo    weight           se  \\\n",
       "fit5_3     0   -3039.514950    0.0       0.000000  0.697966    31.959835   \n",
       "fit5_1     1   -4302.453710    0.0    1262.938760  0.298366   114.835339   \n",
       "fit5_2     2 -212882.231279    0.0  209842.716329  0.003668  9014.180538   \n",
       "\n",
       "                dse  warning loo_scale  \n",
       "fit5_3     0.000000     True       log  \n",
       "fit5_1   112.488933     True       log  \n",
       "fit5_2  9005.322069     True       log  "
      ]
     },
     "metadata": {},
     "output_type": "display_data"
    },
    {
     "data": {
      "text/html": [
       "<div>\n",
       "<style scoped>\n",
       "    .dataframe tbody tr th:only-of-type {\n",
       "        vertical-align: middle;\n",
       "    }\n",
       "\n",
       "    .dataframe tbody tr th {\n",
       "        vertical-align: top;\n",
       "    }\n",
       "\n",
       "    .dataframe thead th {\n",
       "        text-align: right;\n",
       "    }\n",
       "</style>\n",
       "<table border=\"1\" class=\"dataframe\">\n",
       "  <thead>\n",
       "    <tr style=\"text-align: right;\">\n",
       "      <th></th>\n",
       "      <th>rank</th>\n",
       "      <th>waic</th>\n",
       "      <th>p_waic</th>\n",
       "      <th>d_waic</th>\n",
       "      <th>weight</th>\n",
       "      <th>se</th>\n",
       "      <th>dse</th>\n",
       "      <th>warning</th>\n",
       "      <th>waic_scale</th>\n",
       "    </tr>\n",
       "  </thead>\n",
       "  <tbody>\n",
       "    <tr>\n",
       "      <th>fit5_3</th>\n",
       "      <td>0</td>\n",
       "      <td>-3039.514950</td>\n",
       "      <td>5.234092e-28</td>\n",
       "      <td>0.000000</td>\n",
       "      <td>0.697966</td>\n",
       "      <td>31.959835</td>\n",
       "      <td>0.000000</td>\n",
       "      <td>False</td>\n",
       "      <td>log</td>\n",
       "    </tr>\n",
       "    <tr>\n",
       "      <th>fit5_1</th>\n",
       "      <td>1</td>\n",
       "      <td>-4302.453710</td>\n",
       "      <td>1.503717e-27</td>\n",
       "      <td>1262.938760</td>\n",
       "      <td>0.298366</td>\n",
       "      <td>114.835339</td>\n",
       "      <td>112.488933</td>\n",
       "      <td>False</td>\n",
       "      <td>log</td>\n",
       "    </tr>\n",
       "    <tr>\n",
       "      <th>fit5_2</th>\n",
       "      <td>2</td>\n",
       "      <td>-212882.231279</td>\n",
       "      <td>7.376270e-24</td>\n",
       "      <td>209842.716329</td>\n",
       "      <td>0.003668</td>\n",
       "      <td>9014.180538</td>\n",
       "      <td>9005.322069</td>\n",
       "      <td>False</td>\n",
       "      <td>log</td>\n",
       "    </tr>\n",
       "  </tbody>\n",
       "</table>\n",
       "</div>"
      ],
      "text/plain": [
       "        rank           waic        p_waic         d_waic    weight  \\\n",
       "fit5_3     0   -3039.514950  5.234092e-28       0.000000  0.697966   \n",
       "fit5_1     1   -4302.453710  1.503717e-27    1262.938760  0.298366   \n",
       "fit5_2     2 -212882.231279  7.376270e-24  209842.716329  0.003668   \n",
       "\n",
       "                 se          dse  warning waic_scale  \n",
       "fit5_3    31.959835     0.000000    False        log  \n",
       "fit5_1   114.835339   112.488933    False        log  \n",
       "fit5_2  9014.180538  9005.322069    False        log  "
      ]
     },
     "metadata": {},
     "output_type": "display_data"
    },
    {
     "data": {
      "text/plain": [
       "Text(0.5, 1.0, 'Model5 - WAIC')"
      ]
     },
     "execution_count": 29,
     "metadata": {},
     "output_type": "execute_result"
    },
    {
     "data": {
      "image/png": "[encoded data removed]",
      "text/plain": [
       "<Figure size 432x216 with 1 Axes>"
      ]
     },
     "metadata": {
      "needs_background": "dark"
     },
     "output_type": "display_data"
    },
    {
     "data": {
      "image/png": "[encoded data removed]",
      "text/plain": [
       "<Figure size 432x216 with 1 Axes>"
      ]
     },
     "metadata": {
      "needs_background": "dark"
     },
     "output_type": "display_data"
    }
   ],
   "source": [
    "data_model_5 = {'fit5_1': fit5_1, 'fit5_2': fit5_2, 'fit5_3': fit5_3}\n",
    "\n",
    "model_5_loo_compare = az.compare(data_model_5, ic=\"loo\")\n",
    "display(model_5_loo_compare.head())\n",
    "az.plot_compare(model_5_loo_compare)\n",
    "plt.tick_params(axis='both', colors='grey')\n",
    "plt.title('Model5 - LOO', color='grey')\n",
    "\n",
    "model_5_waic_compare = az.compare(data_model_5, ic=\"waic\")\n",
    "display(model_5_waic_compare.head())\n",
    "az.plot_compare(model_5_waic_compare)\n",
    "plt.tick_params(axis='both', colors='grey')\n",
    "plt.title('Model5 - WAIC', color='grey')"
   ]
  },
  {
   "cell_type": "code",
   "execution_count": null,
   "metadata": {},
   "outputs": [],
   "source": []
  }
 ],
 "metadata": {
  "kernelspec": {
   "display_name": "Python 3",
   "language": "python",
   "name": "python3"
  },
  "language_info": {
   "codemirror_mode": {
    "name": "ipython",
    "version": 3
   },
   "file_extension": ".py",
   "mimetype": "text/x-python",
   "name": "python",
   "nbconvert_exporter": "python",
   "pygments_lexer": "ipython3",
   "version": "3.9.11"
  },
  "orig_nbformat": 4
 },
 "nbformat": 4,
 "nbformat_minor": 2
}
